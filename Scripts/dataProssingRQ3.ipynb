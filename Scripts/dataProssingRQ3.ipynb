{
 "cells": [
  {
   "cell_type": "markdown",
   "metadata": {},
   "source": [
    "W test is used to check the normality of distributions. It will output P value."
   ]
  },
  {
   "cell_type": "code",
   "execution_count": 2,
   "metadata": {},
   "outputs": [
    {
     "name": "stdout",
     "output_type": "stream",
     "text": [
      "[0.007073338609188795, 0.0016841939650475979, 2.2193475160747766e-05, 1.3868560927221552e-05, 0.008899386040866375, 2.458437620589393e-06, 1.8402821297058836e-05]\n",
      "[0, 0, 0, 0, 0, 0, 0]\n"
     ]
    }
   ],
   "source": [
    "from xlrd import open_workbook\n",
    "import pandas as pd\n",
    "import numpy as np\n",
    "from scipy import stats\n",
    "\n",
    "# read data\n",
    "workbook=open_workbook('Example_data.xls')\n",
    "# read cold start data\n",
    "# worksheet=workbook.sheet_by_name('ColdStartNew')\n",
    "# read warm start data\n",
    "worksheet=workbook.sheet_by_name('WarmStartNew')\n",
    "\n",
    "W_cold=[]\n",
    "flag=[]\n",
    "ncols=worksheet.ncols\n",
    "for i in range(ncols):\n",
    "    x=worksheet.col_values(i)\n",
    "    stat, p=stats.shapiro(x)\n",
    "    W_cold.append(p)\n",
    "    if p >0.05:\n",
    "        flag.append(1)\n",
    "    else:\n",
    "        flag.append(0)\n",
    "\n",
    "print(W_cold)\n",
    "print(flag)\n"
   ]
  },
  {
   "cell_type": "markdown",
   "metadata": {},
   "source": [
    "When a median or 90th percentile obtained at the low repetition lies outside the 95% confidence interval for the median or confidence interval for the 90th percentile obtained at the high repetition (e.g., 50), it indicates that there is a 95% probability that this median or 90th percentile is inaccurate."
   ]
  },
  {
   "cell_type": "code",
   "execution_count": null,
   "metadata": {},
   "outputs": [
    {
     "name": "stdout",
     "output_type": "stream",
     "text": [
      "18\n",
      "33\n"
     ]
    }
   ],
   "source": [
    "# the 95% confidence interval for the median, bottom index and top index\n",
    "import numpy as np\n",
    "n=50\n",
    "p=0.5\n",
    "print(int(np.rint(n * p - 1.96 * np.sqrt(n*p*(1-p)))))\n",
    "print(int(np.rint(1 + n * p + 1.96 * np.sqrt(n*p*(1-p)))))"
   ]
  },
  {
   "cell_type": "code",
   "execution_count": 4,
   "metadata": {},
   "outputs": [
    {
     "name": "stdout",
     "output_type": "stream",
     "text": [
      "41\n",
      "50\n"
     ]
    }
   ],
   "source": [
    "# the 95% confidence interval for the 90th percentile, bottom index and top index\n",
    "import numpy as np\n",
    "n=50\n",
    "p=0.9\n",
    "print(int(np.rint(n * p - 1.96 * np.sqrt(n*p*(1-p)))))\n",
    "print(int(np.rint(1 + n * p + 1.96 * np.sqrt(n*p*(1-p)))))"
   ]
  },
  {
   "cell_type": "code",
   "execution_count": 5,
   "metadata": {},
   "outputs": [
    {
     "name": "stdout",
     "output_type": "stream",
     "text": [
      "3\n",
      "4\n"
     ]
    }
   ],
   "source": [
    "from xlrd import open_workbook\n",
    "import pandas as pd\n",
    "import numpy as np\n",
    "\n",
    "# read data\n",
    "workbook=open_workbook('Example_data.xls')\n",
    "# read cold start data\n",
    "worksheet=workbook.sheet_by_name('ColdStartNew')\n",
    "# read warm start data\n",
    "# worksheet=workbook.sheet_by_name('WarmStartNew')\n",
    "\n",
    "flag=[]\n",
    "ncols=worksheet.ncols\n",
    "for i in range(ncols):\n",
    "    x=worksheet.col_values(i)\n",
    "    # get the median value at low repetitions, e.g., 10\n",
    "   \n",
    "    x_small=x[:10]\n",
    "    x_small_median=np.median(x_small)\n",
    "    \n",
    "    # get confidence interval for the median at the high repetition, e.g., 50\n",
    "    x_sorted = sorted(x)\n",
    "    lo_val = x_sorted[18]\n",
    "    hi_val = x_sorted[33]\n",
    "    \n",
    "    \n",
    "    #Determine if the median in the small repetition falls in the interval\n",
    "    tmp = 0\n",
    "    if (x_small_median>lo_val) and (x_small_median<hi_val):\n",
    "        tmp =1\n",
    "        flag.append(1)\n",
    "    else:\n",
    "        tmp =0\n",
    "        flag.append(0)\n",
    "    \n",
    "\n",
    "# the median in the small repetition falls in the interval\n",
    "print(np.sum(flag))\n",
    "# the median in the small repetition does not fall in the interval\n",
    "print(len(flag)-np.sum(flag)) "
   ]
  },
  {
   "cell_type": "code",
   "execution_count": 7,
   "metadata": {},
   "outputs": [
    {
     "name": "stdout",
     "output_type": "stream",
     "text": [
      "3\n",
      "4\n"
     ]
    }
   ],
   "source": [
    "from xlrd import open_workbook\n",
    "import pandas as pd\n",
    "import numpy as np\n",
    "\n",
    "# read data\n",
    "workbook=open_workbook('Example_data.xls')\n",
    "# read cold start data\n",
    "worksheet=workbook.sheet_by_name('ColdStartNew')\n",
    "# read warm start data\n",
    "# worksheet=workbook.sheet_by_name('WarmStartNew')\n",
    "\n",
    "flag=[]\n",
    "ncols=worksheet.ncols\n",
    "for i in range(ncols):\n",
    "    x=worksheet.col_values(i)\n",
    "    \n",
    "    # get the 90-th percentile value at low repetitions, e.g., 10\n",
    "   \n",
    "    x_small=x[:10]\n",
    "    x_small_per=np.percentile(x_small,90)\n",
    "    # get confidence interval for the 90th percentile at the high repetition, e.g., 50\n",
    "    x_sorted = sorted(x)\n",
    "    lo_val = x_sorted[41]\n",
    "    hi_val = x_sorted[49]\n",
    "    \n",
    "    #Determine if the median in the small repetition falls in the interval\n",
    "    tmp = 0\n",
    "    if (x_small_per>lo_val) and (x_small_per<hi_val):\n",
    "        tmp =1\n",
    "        flag.append(1)\n",
    "    else:\n",
    "        tmp =0\n",
    "        flag.append(0)\n",
    "    \n",
    "\n",
    "# the 90th percentile in the small repetition falls in the interval\n",
    "print(np.sum(flag))\n",
    "# the 90th percentile in the small repetition does not fall in the interval\n",
    "print(len(flag)-np.sum(flag)) "
   ]
  },
  {
   "cell_type": "code",
   "execution_count": null,
   "metadata": {},
   "outputs": [],
   "source": [
    "# find an example to see the bottom bound and top bound of CI, as well as difference\n",
    "\n",
    "import numpy as np\n",
    "\n",
    "#calculate the index for the CI for median\n",
    "def calculateTopLow(n):\n",
    "    p = 0.5\n",
    "    low=int(np.rint(n * p - 1.96 * np.sqrt(n*p*(1-p))))\n",
    "    top=int(np.rint(1 + n * p + 1.96 * np.sqrt(n*p*(1-p))))\n",
    "    return low,top\n",
    "\n",
    "\n",
    "from xlrd import open_workbook\n",
    "import pandas as pd\n",
    "\n",
    "\n",
    "\n",
    "# read data\n",
    "workbook=open_workbook('Example_data.xls')\n",
    "# read cold start data\n",
    "worksheet=workbook.sheet_by_name('ColdStartNew')\n",
    "# worksheet=workbook.sheet_by_name('WarmStartNew')\n",
    "\n",
    "\n",
    "repetition=[10, 15, 20, 25, 30, 35, 40, 45, 50]\n",
    "\n",
    "lo=[]\n",
    "hi=[]\n",
    "interval=[]\n",
    "\n",
    "#0 is the first function from ExampleData\n",
    "x=worksheet.col_values(4)\n",
    "for num in repetition:\n",
    "    x_small=x[:num]\n",
    "    low,top=calculateTopLow(num)\n",
    "    x_sorted = sorted(x_small)\n",
    "    lo_val = x_sorted[low]\n",
    "    hi_val = x_sorted[top]\n",
    "    lo.append(lo_val)\n",
    "    hi.append(hi_val)\n",
    "    interval.append(hi_val-lo_val)\n",
    "\n",
    "for i in range(len(lo)):\n",
    "\n",
    "    print(\"{}, {}, {}, {}\".format(repetition[i], lo[i], hi[i], interval[i]))\n"
   ]
  },
  {
   "cell_type": "markdown",
   "metadata": {},
   "source": [
    "Determine if the serverless function needs to more than 50 repetitions"
   ]
  },
  {
   "cell_type": "code",
   "execution_count": 8,
   "metadata": {},
   "outputs": [
    {
     "name": "stdout",
     "output_type": "stream",
     "text": [
      "['', '', '', '35,40,50,', '30,35,', '', '20,25,']\n"
     ]
    }
   ],
   "source": [
    "import numpy as np\n",
    "\n",
    "#get bottom index and top index for the confidence interval for the median\n",
    "def calculateTopLow(n):\n",
    "    p = 0.5\n",
    "    low=int(np.rint(n * p - 1.96 * np.sqrt(n*p*(1-p))))\n",
    "    top=int(np.rint(1 + n * p + 1.96 * np.sqrt(n*p*(1-p))))\n",
    "    return low,top\n",
    "\n",
    "\n",
    "from xlrd import open_workbook\n",
    "import pandas as pd\n",
    "\n",
    "\n",
    "\n",
    "# read data\n",
    "workbook=open_workbook('Example_data.xls')\n",
    "# read cold start data\n",
    "worksheet=workbook.sheet_by_name('ColdStartNew')\n",
    "# read warm start data\n",
    "# worksheet=workbook.sheet_by_name('WarmStartNew')\n",
    "\n",
    "# test more repetitions and check if 50 repetitions are enough\n",
    "repetition=[10, 15, 20, 25, 30, 35, 40, 45, 50]\n",
    "\n",
    "lo=[]\n",
    "hi=[]\n",
    "interval=[]\n",
    "\n",
    "m_lo = []\n",
    "m_hi = []\n",
    "\n",
    "record = []\n",
    "\n",
    "# get all column for data table\n",
    "ncols=worksheet.ncols\n",
    "\n",
    "for i in range(ncols):\n",
    "    record_x=\"\"\n",
    "    x=worksheet.col_values(i)\n",
    "    for num in repetition:\n",
    "        x_small=x[:num]\n",
    "        low,top=calculateTopLow(num)\n",
    "        \n",
    "        # calculate the confidence interval in a specific repeition\n",
    "       \n",
    "        x_sorted = sorted(x_small)\n",
    "        lo_CI = x_sorted[low]\n",
    "        hi_CI = x_sorted[top]\n",
    "        lo.append(lo_CI)\n",
    "        hi.append(hi_CI)\n",
    "\n",
    "        # calculate the actual median value in a specific repeition\n",
    "        # calculate the error range for the actual median\n",
    "        median_x = np.median(x_small)\n",
    "        median_lo = median_x - median_x * 0.01\n",
    "        medain_hi = median_x + median_x * 0.01\n",
    "        m_lo.append(median_lo)\n",
    "        m_hi.append(medain_hi)\n",
    "\n",
    "        # determine if the confidence interval falls in the error range for the actual median\n",
    "        if lo_CI>median_lo and hi_CI< medain_hi:\n",
    "            record_x=record_x + str(num) +\",\"\n",
    "            interval.append(1)\n",
    "            # print(num)\n",
    "        else:\n",
    "            interval.append(0)\n",
    "    record.append(record_x)\n",
    "\n",
    "print(record)"
   ]
  }
 ],
 "metadata": {
  "kernelspec": {
   "display_name": "Python 3.8.5 ('base')",
   "language": "python",
   "name": "python3"
  },
  "language_info": {
   "codemirror_mode": {
    "name": "ipython",
    "version": 3
   },
   "file_extension": ".py",
   "mimetype": "text/x-python",
   "name": "python",
   "nbconvert_exporter": "python",
   "pygments_lexer": "ipython3",
   "version": "3.9.6"
  },
  "vscode": {
   "interpreter": {
    "hash": "40d3a090f54c6569ab1632332b64b2c03c39dcf918b08424e98f38b5ae0af88f"
   }
  }
 },
 "nbformat": 4,
 "nbformat_minor": 4
}
